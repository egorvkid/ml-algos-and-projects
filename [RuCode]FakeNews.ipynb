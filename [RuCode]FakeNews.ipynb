{
  "nbformat": 4,
  "nbformat_minor": 0,
  "metadata": {
    "colab": {
      "name": "FakeNews.ipynb",
      "provenance": [],
      "collapsed_sections": [],
      "authorship_tag": "ABX9TyO6TeNO8f4MIiCnMdh+3/Th",
      "include_colab_link": true
    },
    "kernelspec": {
      "name": "python3",
      "display_name": "Python 3"
    },
    "widgets": {
      "application/vnd.jupyter.widget-state+json": {
        "1245445ce5394c36ade0d171cc4989dd": {
          "model_module": "@jupyter-widgets/controls",
          "model_name": "HBoxModel",
          "state": {
            "_view_name": "HBoxView",
            "_dom_classes": [],
            "_model_name": "HBoxModel",
            "_view_module": "@jupyter-widgets/controls",
            "_model_module_version": "1.5.0",
            "_view_count": null,
            "_view_module_version": "1.5.0",
            "box_style": "",
            "layout": "IPY_MODEL_2d0ebaee30b94a67987b4f5d868fe561",
            "_model_module": "@jupyter-widgets/controls",
            "children": [
              "IPY_MODEL_71549076b86943488a755397083784ac",
              "IPY_MODEL_2dda1cffb68249d695d86dd16e96c574"
            ]
          }
        },
        "2d0ebaee30b94a67987b4f5d868fe561": {
          "model_module": "@jupyter-widgets/base",
          "model_name": "LayoutModel",
          "state": {
            "_view_name": "LayoutView",
            "grid_template_rows": null,
            "right": null,
            "justify_content": null,
            "_view_module": "@jupyter-widgets/base",
            "overflow": null,
            "_model_module_version": "1.2.0",
            "_view_count": null,
            "flex_flow": null,
            "width": null,
            "min_width": null,
            "border": null,
            "align_items": null,
            "bottom": null,
            "_model_module": "@jupyter-widgets/base",
            "top": null,
            "grid_column": null,
            "overflow_y": null,
            "overflow_x": null,
            "grid_auto_flow": null,
            "grid_area": null,
            "grid_template_columns": null,
            "flex": null,
            "_model_name": "LayoutModel",
            "justify_items": null,
            "grid_row": null,
            "max_height": null,
            "align_content": null,
            "visibility": null,
            "align_self": null,
            "height": null,
            "min_height": null,
            "padding": null,
            "grid_auto_rows": null,
            "grid_gap": null,
            "max_width": null,
            "order": null,
            "_view_module_version": "1.2.0",
            "grid_template_areas": null,
            "object_position": null,
            "object_fit": null,
            "grid_auto_columns": null,
            "margin": null,
            "display": null,
            "left": null
          }
        },
        "71549076b86943488a755397083784ac": {
          "model_module": "@jupyter-widgets/controls",
          "model_name": "FloatProgressModel",
          "state": {
            "_view_name": "ProgressView",
            "style": "IPY_MODEL_ead37e1059614aecb298ebbd9b44f2c2",
            "_dom_classes": [],
            "description": "100%",
            "_model_name": "FloatProgressModel",
            "bar_style": "success",
            "max": 23878,
            "_view_module": "@jupyter-widgets/controls",
            "_model_module_version": "1.5.0",
            "value": 23878,
            "_view_count": null,
            "_view_module_version": "1.5.0",
            "orientation": "horizontal",
            "min": 0,
            "description_tooltip": null,
            "_model_module": "@jupyter-widgets/controls",
            "layout": "IPY_MODEL_de475d9207f4410ea3efae304a0829a2"
          }
        },
        "2dda1cffb68249d695d86dd16e96c574": {
          "model_module": "@jupyter-widgets/controls",
          "model_name": "HTMLModel",
          "state": {
            "_view_name": "HTMLView",
            "style": "IPY_MODEL_13eaec973f91411e9f47262e9b45cfa6",
            "_dom_classes": [],
            "description": "",
            "_model_name": "HTMLModel",
            "placeholder": "​",
            "_view_module": "@jupyter-widgets/controls",
            "_model_module_version": "1.5.0",
            "value": " 23878/23878 [25:59&lt;00:00, 15.31it/s]",
            "_view_count": null,
            "_view_module_version": "1.5.0",
            "description_tooltip": null,
            "_model_module": "@jupyter-widgets/controls",
            "layout": "IPY_MODEL_3d986da09c1d44e2b5c8fbdda5b77bb9"
          }
        },
        "ead37e1059614aecb298ebbd9b44f2c2": {
          "model_module": "@jupyter-widgets/controls",
          "model_name": "ProgressStyleModel",
          "state": {
            "_view_name": "StyleView",
            "_model_name": "ProgressStyleModel",
            "description_width": "initial",
            "_view_module": "@jupyter-widgets/base",
            "_model_module_version": "1.5.0",
            "_view_count": null,
            "_view_module_version": "1.2.0",
            "bar_color": null,
            "_model_module": "@jupyter-widgets/controls"
          }
        },
        "de475d9207f4410ea3efae304a0829a2": {
          "model_module": "@jupyter-widgets/base",
          "model_name": "LayoutModel",
          "state": {
            "_view_name": "LayoutView",
            "grid_template_rows": null,
            "right": null,
            "justify_content": null,
            "_view_module": "@jupyter-widgets/base",
            "overflow": null,
            "_model_module_version": "1.2.0",
            "_view_count": null,
            "flex_flow": null,
            "width": null,
            "min_width": null,
            "border": null,
            "align_items": null,
            "bottom": null,
            "_model_module": "@jupyter-widgets/base",
            "top": null,
            "grid_column": null,
            "overflow_y": null,
            "overflow_x": null,
            "grid_auto_flow": null,
            "grid_area": null,
            "grid_template_columns": null,
            "flex": null,
            "_model_name": "LayoutModel",
            "justify_items": null,
            "grid_row": null,
            "max_height": null,
            "align_content": null,
            "visibility": null,
            "align_self": null,
            "height": null,
            "min_height": null,
            "padding": null,
            "grid_auto_rows": null,
            "grid_gap": null,
            "max_width": null,
            "order": null,
            "_view_module_version": "1.2.0",
            "grid_template_areas": null,
            "object_position": null,
            "object_fit": null,
            "grid_auto_columns": null,
            "margin": null,
            "display": null,
            "left": null
          }
        },
        "13eaec973f91411e9f47262e9b45cfa6": {
          "model_module": "@jupyter-widgets/controls",
          "model_name": "DescriptionStyleModel",
          "state": {
            "_view_name": "StyleView",
            "_model_name": "DescriptionStyleModel",
            "description_width": "",
            "_view_module": "@jupyter-widgets/base",
            "_model_module_version": "1.5.0",
            "_view_count": null,
            "_view_module_version": "1.2.0",
            "_model_module": "@jupyter-widgets/controls"
          }
        },
        "3d986da09c1d44e2b5c8fbdda5b77bb9": {
          "model_module": "@jupyter-widgets/base",
          "model_name": "LayoutModel",
          "state": {
            "_view_name": "LayoutView",
            "grid_template_rows": null,
            "right": null,
            "justify_content": null,
            "_view_module": "@jupyter-widgets/base",
            "overflow": null,
            "_model_module_version": "1.2.0",
            "_view_count": null,
            "flex_flow": null,
            "width": null,
            "min_width": null,
            "border": null,
            "align_items": null,
            "bottom": null,
            "_model_module": "@jupyter-widgets/base",
            "top": null,
            "grid_column": null,
            "overflow_y": null,
            "overflow_x": null,
            "grid_auto_flow": null,
            "grid_area": null,
            "grid_template_columns": null,
            "flex": null,
            "_model_name": "LayoutModel",
            "justify_items": null,
            "grid_row": null,
            "max_height": null,
            "align_content": null,
            "visibility": null,
            "align_self": null,
            "height": null,
            "min_height": null,
            "padding": null,
            "grid_auto_rows": null,
            "grid_gap": null,
            "max_width": null,
            "order": null,
            "_view_module_version": "1.2.0",
            "grid_template_areas": null,
            "object_position": null,
            "object_fit": null,
            "grid_auto_columns": null,
            "margin": null,
            "display": null,
            "left": null
          }
        },
        "322fc0684be34697b860c57a0a22979e": {
          "model_module": "@jupyter-widgets/controls",
          "model_name": "HBoxModel",
          "state": {
            "_view_name": "HBoxView",
            "_dom_classes": [],
            "_model_name": "HBoxModel",
            "_view_module": "@jupyter-widgets/controls",
            "_model_module_version": "1.5.0",
            "_view_count": null,
            "_view_module_version": "1.5.0",
            "box_style": "",
            "layout": "IPY_MODEL_bf60a0262caa47478747fbc059698d37",
            "_model_module": "@jupyter-widgets/controls",
            "children": [
              "IPY_MODEL_c26dcb43a1ee4330a39bc2801abf0e67",
              "IPY_MODEL_b3beeec027a544bbaa7890d09261121f"
            ]
          }
        },
        "bf60a0262caa47478747fbc059698d37": {
          "model_module": "@jupyter-widgets/base",
          "model_name": "LayoutModel",
          "state": {
            "_view_name": "LayoutView",
            "grid_template_rows": null,
            "right": null,
            "justify_content": null,
            "_view_module": "@jupyter-widgets/base",
            "overflow": null,
            "_model_module_version": "1.2.0",
            "_view_count": null,
            "flex_flow": null,
            "width": null,
            "min_width": null,
            "border": null,
            "align_items": null,
            "bottom": null,
            "_model_module": "@jupyter-widgets/base",
            "top": null,
            "grid_column": null,
            "overflow_y": null,
            "overflow_x": null,
            "grid_auto_flow": null,
            "grid_area": null,
            "grid_template_columns": null,
            "flex": null,
            "_model_name": "LayoutModel",
            "justify_items": null,
            "grid_row": null,
            "max_height": null,
            "align_content": null,
            "visibility": null,
            "align_self": null,
            "height": null,
            "min_height": null,
            "padding": null,
            "grid_auto_rows": null,
            "grid_gap": null,
            "max_width": null,
            "order": null,
            "_view_module_version": "1.2.0",
            "grid_template_areas": null,
            "object_position": null,
            "object_fit": null,
            "grid_auto_columns": null,
            "margin": null,
            "display": null,
            "left": null
          }
        },
        "c26dcb43a1ee4330a39bc2801abf0e67": {
          "model_module": "@jupyter-widgets/controls",
          "model_name": "FloatProgressModel",
          "state": {
            "_view_name": "ProgressView",
            "style": "IPY_MODEL_f5ab6bf970284810a9fee86fd372ca15",
            "_dom_classes": [],
            "description": "100%",
            "_model_name": "FloatProgressModel",
            "bar_style": "success",
            "max": 6024,
            "_view_module": "@jupyter-widgets/controls",
            "_model_module_version": "1.5.0",
            "value": 6024,
            "_view_count": null,
            "_view_module_version": "1.5.0",
            "orientation": "horizontal",
            "min": 0,
            "description_tooltip": null,
            "_model_module": "@jupyter-widgets/controls",
            "layout": "IPY_MODEL_73c8b31ff6f24589923cd49d7a5c665b"
          }
        },
        "b3beeec027a544bbaa7890d09261121f": {
          "model_module": "@jupyter-widgets/controls",
          "model_name": "HTMLModel",
          "state": {
            "_view_name": "HTMLView",
            "style": "IPY_MODEL_8228fa98700540ffadd576e68289feda",
            "_dom_classes": [],
            "description": "",
            "_model_name": "HTMLModel",
            "placeholder": "​",
            "_view_module": "@jupyter-widgets/controls",
            "_model_module_version": "1.5.0",
            "value": " 6024/6024 [05:16&lt;00:00, 19.05it/s]",
            "_view_count": null,
            "_view_module_version": "1.5.0",
            "description_tooltip": null,
            "_model_module": "@jupyter-widgets/controls",
            "layout": "IPY_MODEL_9a9fec0eea38493cbf4fce3cd5947cf4"
          }
        },
        "f5ab6bf970284810a9fee86fd372ca15": {
          "model_module": "@jupyter-widgets/controls",
          "model_name": "ProgressStyleModel",
          "state": {
            "_view_name": "StyleView",
            "_model_name": "ProgressStyleModel",
            "description_width": "initial",
            "_view_module": "@jupyter-widgets/base",
            "_model_module_version": "1.5.0",
            "_view_count": null,
            "_view_module_version": "1.2.0",
            "bar_color": null,
            "_model_module": "@jupyter-widgets/controls"
          }
        },
        "73c8b31ff6f24589923cd49d7a5c665b": {
          "model_module": "@jupyter-widgets/base",
          "model_name": "LayoutModel",
          "state": {
            "_view_name": "LayoutView",
            "grid_template_rows": null,
            "right": null,
            "justify_content": null,
            "_view_module": "@jupyter-widgets/base",
            "overflow": null,
            "_model_module_version": "1.2.0",
            "_view_count": null,
            "flex_flow": null,
            "width": null,
            "min_width": null,
            "border": null,
            "align_items": null,
            "bottom": null,
            "_model_module": "@jupyter-widgets/base",
            "top": null,
            "grid_column": null,
            "overflow_y": null,
            "overflow_x": null,
            "grid_auto_flow": null,
            "grid_area": null,
            "grid_template_columns": null,
            "flex": null,
            "_model_name": "LayoutModel",
            "justify_items": null,
            "grid_row": null,
            "max_height": null,
            "align_content": null,
            "visibility": null,
            "align_self": null,
            "height": null,
            "min_height": null,
            "padding": null,
            "grid_auto_rows": null,
            "grid_gap": null,
            "max_width": null,
            "order": null,
            "_view_module_version": "1.2.0",
            "grid_template_areas": null,
            "object_position": null,
            "object_fit": null,
            "grid_auto_columns": null,
            "margin": null,
            "display": null,
            "left": null
          }
        },
        "8228fa98700540ffadd576e68289feda": {
          "model_module": "@jupyter-widgets/controls",
          "model_name": "DescriptionStyleModel",
          "state": {
            "_view_name": "StyleView",
            "_model_name": "DescriptionStyleModel",
            "description_width": "",
            "_view_module": "@jupyter-widgets/base",
            "_model_module_version": "1.5.0",
            "_view_count": null,
            "_view_module_version": "1.2.0",
            "_model_module": "@jupyter-widgets/controls"
          }
        },
        "9a9fec0eea38493cbf4fce3cd5947cf4": {
          "model_module": "@jupyter-widgets/base",
          "model_name": "LayoutModel",
          "state": {
            "_view_name": "LayoutView",
            "grid_template_rows": null,
            "right": null,
            "justify_content": null,
            "_view_module": "@jupyter-widgets/base",
            "overflow": null,
            "_model_module_version": "1.2.0",
            "_view_count": null,
            "flex_flow": null,
            "width": null,
            "min_width": null,
            "border": null,
            "align_items": null,
            "bottom": null,
            "_model_module": "@jupyter-widgets/base",
            "top": null,
            "grid_column": null,
            "overflow_y": null,
            "overflow_x": null,
            "grid_auto_flow": null,
            "grid_area": null,
            "grid_template_columns": null,
            "flex": null,
            "_model_name": "LayoutModel",
            "justify_items": null,
            "grid_row": null,
            "max_height": null,
            "align_content": null,
            "visibility": null,
            "align_self": null,
            "height": null,
            "min_height": null,
            "padding": null,
            "grid_auto_rows": null,
            "grid_gap": null,
            "max_width": null,
            "order": null,
            "_view_module_version": "1.2.0",
            "grid_template_areas": null,
            "object_position": null,
            "object_fit": null,
            "grid_auto_columns": null,
            "margin": null,
            "display": null,
            "left": null
          }
        },
        "ef04542149c04ee89f572bb78d6d4806": {
          "model_module": "@jupyter-widgets/controls",
          "model_name": "HBoxModel",
          "state": {
            "_view_name": "HBoxView",
            "_dom_classes": [],
            "_model_name": "HBoxModel",
            "_view_module": "@jupyter-widgets/controls",
            "_model_module_version": "1.5.0",
            "_view_count": null,
            "_view_module_version": "1.5.0",
            "box_style": "",
            "layout": "IPY_MODEL_59b06725d9eb4e90946d211d6404a7b7",
            "_model_module": "@jupyter-widgets/controls",
            "children": [
              "IPY_MODEL_c054e171abc546abb200b00db79fd845",
              "IPY_MODEL_bda8d74f6a854fab9ae42809334d211f"
            ]
          }
        },
        "59b06725d9eb4e90946d211d6404a7b7": {
          "model_module": "@jupyter-widgets/base",
          "model_name": "LayoutModel",
          "state": {
            "_view_name": "LayoutView",
            "grid_template_rows": null,
            "right": null,
            "justify_content": null,
            "_view_module": "@jupyter-widgets/base",
            "overflow": null,
            "_model_module_version": "1.2.0",
            "_view_count": null,
            "flex_flow": null,
            "width": null,
            "min_width": null,
            "border": null,
            "align_items": null,
            "bottom": null,
            "_model_module": "@jupyter-widgets/base",
            "top": null,
            "grid_column": null,
            "overflow_y": null,
            "overflow_x": null,
            "grid_auto_flow": null,
            "grid_area": null,
            "grid_template_columns": null,
            "flex": null,
            "_model_name": "LayoutModel",
            "justify_items": null,
            "grid_row": null,
            "max_height": null,
            "align_content": null,
            "visibility": null,
            "align_self": null,
            "height": null,
            "min_height": null,
            "padding": null,
            "grid_auto_rows": null,
            "grid_gap": null,
            "max_width": null,
            "order": null,
            "_view_module_version": "1.2.0",
            "grid_template_areas": null,
            "object_position": null,
            "object_fit": null,
            "grid_auto_columns": null,
            "margin": null,
            "display": null,
            "left": null
          }
        },
        "c054e171abc546abb200b00db79fd845": {
          "model_module": "@jupyter-widgets/controls",
          "model_name": "FloatProgressModel",
          "state": {
            "_view_name": "ProgressView",
            "style": "IPY_MODEL_50af832113cc43719f30b500fce60536",
            "_dom_classes": [],
            "description": "100%",
            "_model_name": "FloatProgressModel",
            "bar_style": "success",
            "max": 23878,
            "_view_module": "@jupyter-widgets/controls",
            "_model_module_version": "1.5.0",
            "value": 23878,
            "_view_count": null,
            "_view_module_version": "1.5.0",
            "orientation": "horizontal",
            "min": 0,
            "description_tooltip": null,
            "_model_module": "@jupyter-widgets/controls",
            "layout": "IPY_MODEL_0108651514ad4103a32cc6fe782c6dd7"
          }
        },
        "bda8d74f6a854fab9ae42809334d211f": {
          "model_module": "@jupyter-widgets/controls",
          "model_name": "HTMLModel",
          "state": {
            "_view_name": "HTMLView",
            "style": "IPY_MODEL_6cbf8c4d0dd445908feb5b8a03c03635",
            "_dom_classes": [],
            "description": "",
            "_model_name": "HTMLModel",
            "placeholder": "​",
            "_view_module": "@jupyter-widgets/controls",
            "_model_module_version": "1.5.0",
            "value": " 23878/23878 [00:08&lt;00:00, 2933.47it/s]",
            "_view_count": null,
            "_view_module_version": "1.5.0",
            "description_tooltip": null,
            "_model_module": "@jupyter-widgets/controls",
            "layout": "IPY_MODEL_4cd171b89751405abecc5d67be68abdf"
          }
        },
        "50af832113cc43719f30b500fce60536": {
          "model_module": "@jupyter-widgets/controls",
          "model_name": "ProgressStyleModel",
          "state": {
            "_view_name": "StyleView",
            "_model_name": "ProgressStyleModel",
            "description_width": "initial",
            "_view_module": "@jupyter-widgets/base",
            "_model_module_version": "1.5.0",
            "_view_count": null,
            "_view_module_version": "1.2.0",
            "bar_color": null,
            "_model_module": "@jupyter-widgets/controls"
          }
        },
        "0108651514ad4103a32cc6fe782c6dd7": {
          "model_module": "@jupyter-widgets/base",
          "model_name": "LayoutModel",
          "state": {
            "_view_name": "LayoutView",
            "grid_template_rows": null,
            "right": null,
            "justify_content": null,
            "_view_module": "@jupyter-widgets/base",
            "overflow": null,
            "_model_module_version": "1.2.0",
            "_view_count": null,
            "flex_flow": null,
            "width": null,
            "min_width": null,
            "border": null,
            "align_items": null,
            "bottom": null,
            "_model_module": "@jupyter-widgets/base",
            "top": null,
            "grid_column": null,
            "overflow_y": null,
            "overflow_x": null,
            "grid_auto_flow": null,
            "grid_area": null,
            "grid_template_columns": null,
            "flex": null,
            "_model_name": "LayoutModel",
            "justify_items": null,
            "grid_row": null,
            "max_height": null,
            "align_content": null,
            "visibility": null,
            "align_self": null,
            "height": null,
            "min_height": null,
            "padding": null,
            "grid_auto_rows": null,
            "grid_gap": null,
            "max_width": null,
            "order": null,
            "_view_module_version": "1.2.0",
            "grid_template_areas": null,
            "object_position": null,
            "object_fit": null,
            "grid_auto_columns": null,
            "margin": null,
            "display": null,
            "left": null
          }
        },
        "6cbf8c4d0dd445908feb5b8a03c03635": {
          "model_module": "@jupyter-widgets/controls",
          "model_name": "DescriptionStyleModel",
          "state": {
            "_view_name": "StyleView",
            "_model_name": "DescriptionStyleModel",
            "description_width": "",
            "_view_module": "@jupyter-widgets/base",
            "_model_module_version": "1.5.0",
            "_view_count": null,
            "_view_module_version": "1.2.0",
            "_model_module": "@jupyter-widgets/controls"
          }
        },
        "4cd171b89751405abecc5d67be68abdf": {
          "model_module": "@jupyter-widgets/base",
          "model_name": "LayoutModel",
          "state": {
            "_view_name": "LayoutView",
            "grid_template_rows": null,
            "right": null,
            "justify_content": null,
            "_view_module": "@jupyter-widgets/base",
            "overflow": null,
            "_model_module_version": "1.2.0",
            "_view_count": null,
            "flex_flow": null,
            "width": null,
            "min_width": null,
            "border": null,
            "align_items": null,
            "bottom": null,
            "_model_module": "@jupyter-widgets/base",
            "top": null,
            "grid_column": null,
            "overflow_y": null,
            "overflow_x": null,
            "grid_auto_flow": null,
            "grid_area": null,
            "grid_template_columns": null,
            "flex": null,
            "_model_name": "LayoutModel",
            "justify_items": null,
            "grid_row": null,
            "max_height": null,
            "align_content": null,
            "visibility": null,
            "align_self": null,
            "height": null,
            "min_height": null,
            "padding": null,
            "grid_auto_rows": null,
            "grid_gap": null,
            "max_width": null,
            "order": null,
            "_view_module_version": "1.2.0",
            "grid_template_areas": null,
            "object_position": null,
            "object_fit": null,
            "grid_auto_columns": null,
            "margin": null,
            "display": null,
            "left": null
          }
        },
        "ca657d9e2ce54d6ba0bc16522aed6e6f": {
          "model_module": "@jupyter-widgets/controls",
          "model_name": "HBoxModel",
          "state": {
            "_view_name": "HBoxView",
            "_dom_classes": [],
            "_model_name": "HBoxModel",
            "_view_module": "@jupyter-widgets/controls",
            "_model_module_version": "1.5.0",
            "_view_count": null,
            "_view_module_version": "1.5.0",
            "box_style": "",
            "layout": "IPY_MODEL_b5fb880345c1422988b71704a24ac902",
            "_model_module": "@jupyter-widgets/controls",
            "children": [
              "IPY_MODEL_9545701df8674c81b43901dedcaa599e",
              "IPY_MODEL_fcd4c7cd5a0d419a8bccc360bd42aa7b"
            ]
          }
        },
        "b5fb880345c1422988b71704a24ac902": {
          "model_module": "@jupyter-widgets/base",
          "model_name": "LayoutModel",
          "state": {
            "_view_name": "LayoutView",
            "grid_template_rows": null,
            "right": null,
            "justify_content": null,
            "_view_module": "@jupyter-widgets/base",
            "overflow": null,
            "_model_module_version": "1.2.0",
            "_view_count": null,
            "flex_flow": null,
            "width": null,
            "min_width": null,
            "border": null,
            "align_items": null,
            "bottom": null,
            "_model_module": "@jupyter-widgets/base",
            "top": null,
            "grid_column": null,
            "overflow_y": null,
            "overflow_x": null,
            "grid_auto_flow": null,
            "grid_area": null,
            "grid_template_columns": null,
            "flex": null,
            "_model_name": "LayoutModel",
            "justify_items": null,
            "grid_row": null,
            "max_height": null,
            "align_content": null,
            "visibility": null,
            "align_self": null,
            "height": null,
            "min_height": null,
            "padding": null,
            "grid_auto_rows": null,
            "grid_gap": null,
            "max_width": null,
            "order": null,
            "_view_module_version": "1.2.0",
            "grid_template_areas": null,
            "object_position": null,
            "object_fit": null,
            "grid_auto_columns": null,
            "margin": null,
            "display": null,
            "left": null
          }
        },
        "9545701df8674c81b43901dedcaa599e": {
          "model_module": "@jupyter-widgets/controls",
          "model_name": "FloatProgressModel",
          "state": {
            "_view_name": "ProgressView",
            "style": "IPY_MODEL_04b0189fbd46426ab6d5eead2fde250c",
            "_dom_classes": [],
            "description": "100%",
            "_model_name": "FloatProgressModel",
            "bar_style": "success",
            "max": 6024,
            "_view_module": "@jupyter-widgets/controls",
            "_model_module_version": "1.5.0",
            "value": 6024,
            "_view_count": null,
            "_view_module_version": "1.5.0",
            "orientation": "horizontal",
            "min": 0,
            "description_tooltip": null,
            "_model_module": "@jupyter-widgets/controls",
            "layout": "IPY_MODEL_4ba8e3cbf4dd4225b9687e5620dcdaaf"
          }
        },
        "fcd4c7cd5a0d419a8bccc360bd42aa7b": {
          "model_module": "@jupyter-widgets/controls",
          "model_name": "HTMLModel",
          "state": {
            "_view_name": "HTMLView",
            "style": "IPY_MODEL_09832495bf6942ee9449510e6e767469",
            "_dom_classes": [],
            "description": "",
            "_model_name": "HTMLModel",
            "placeholder": "​",
            "_view_module": "@jupyter-widgets/controls",
            "_model_module_version": "1.5.0",
            "value": " 6024/6024 [00:21&lt;00:00, 282.33it/s]",
            "_view_count": null,
            "_view_module_version": "1.5.0",
            "description_tooltip": null,
            "_model_module": "@jupyter-widgets/controls",
            "layout": "IPY_MODEL_e9238ae1484e4d40b9ec4657b89baee3"
          }
        },
        "04b0189fbd46426ab6d5eead2fde250c": {
          "model_module": "@jupyter-widgets/controls",
          "model_name": "ProgressStyleModel",
          "state": {
            "_view_name": "StyleView",
            "_model_name": "ProgressStyleModel",
            "description_width": "initial",
            "_view_module": "@jupyter-widgets/base",
            "_model_module_version": "1.5.0",
            "_view_count": null,
            "_view_module_version": "1.2.0",
            "bar_color": null,
            "_model_module": "@jupyter-widgets/controls"
          }
        },
        "4ba8e3cbf4dd4225b9687e5620dcdaaf": {
          "model_module": "@jupyter-widgets/base",
          "model_name": "LayoutModel",
          "state": {
            "_view_name": "LayoutView",
            "grid_template_rows": null,
            "right": null,
            "justify_content": null,
            "_view_module": "@jupyter-widgets/base",
            "overflow": null,
            "_model_module_version": "1.2.0",
            "_view_count": null,
            "flex_flow": null,
            "width": null,
            "min_width": null,
            "border": null,
            "align_items": null,
            "bottom": null,
            "_model_module": "@jupyter-widgets/base",
            "top": null,
            "grid_column": null,
            "overflow_y": null,
            "overflow_x": null,
            "grid_auto_flow": null,
            "grid_area": null,
            "grid_template_columns": null,
            "flex": null,
            "_model_name": "LayoutModel",
            "justify_items": null,
            "grid_row": null,
            "max_height": null,
            "align_content": null,
            "visibility": null,
            "align_self": null,
            "height": null,
            "min_height": null,
            "padding": null,
            "grid_auto_rows": null,
            "grid_gap": null,
            "max_width": null,
            "order": null,
            "_view_module_version": "1.2.0",
            "grid_template_areas": null,
            "object_position": null,
            "object_fit": null,
            "grid_auto_columns": null,
            "margin": null,
            "display": null,
            "left": null
          }
        },
        "09832495bf6942ee9449510e6e767469": {
          "model_module": "@jupyter-widgets/controls",
          "model_name": "DescriptionStyleModel",
          "state": {
            "_view_name": "StyleView",
            "_model_name": "DescriptionStyleModel",
            "description_width": "",
            "_view_module": "@jupyter-widgets/base",
            "_model_module_version": "1.5.0",
            "_view_count": null,
            "_view_module_version": "1.2.0",
            "_model_module": "@jupyter-widgets/controls"
          }
        },
        "e9238ae1484e4d40b9ec4657b89baee3": {
          "model_module": "@jupyter-widgets/base",
          "model_name": "LayoutModel",
          "state": {
            "_view_name": "LayoutView",
            "grid_template_rows": null,
            "right": null,
            "justify_content": null,
            "_view_module": "@jupyter-widgets/base",
            "overflow": null,
            "_model_module_version": "1.2.0",
            "_view_count": null,
            "flex_flow": null,
            "width": null,
            "min_width": null,
            "border": null,
            "align_items": null,
            "bottom": null,
            "_model_module": "@jupyter-widgets/base",
            "top": null,
            "grid_column": null,
            "overflow_y": null,
            "overflow_x": null,
            "grid_auto_flow": null,
            "grid_area": null,
            "grid_template_columns": null,
            "flex": null,
            "_model_name": "LayoutModel",
            "justify_items": null,
            "grid_row": null,
            "max_height": null,
            "align_content": null,
            "visibility": null,
            "align_self": null,
            "height": null,
            "min_height": null,
            "padding": null,
            "grid_auto_rows": null,
            "grid_gap": null,
            "max_width": null,
            "order": null,
            "_view_module_version": "1.2.0",
            "grid_template_areas": null,
            "object_position": null,
            "object_fit": null,
            "grid_auto_columns": null,
            "margin": null,
            "display": null,
            "left": null
          }
        }
      }
    }
  },
  "cells": [
    {
      "cell_type": "markdown",
      "metadata": {
        "id": "view-in-github",
        "colab_type": "text"
      },
      "source": [
        "<a href=\"https://colab.research.google.com/github/egorvkid/ml_algos/blob/master/FakeNews.ipynb\" target=\"_parent\"><img src=\"https://colab.research.google.com/assets/colab-badge.svg\" alt=\"Open In Colab\"/></a>"
      ]
    },
    {
      "cell_type": "markdown",
      "metadata": {
        "id": "SmlZ_9NG4F11"
      },
      "source": [
        "Russian Text classification using pymorphy2\n"
      ]
    },
    {
      "cell_type": "markdown",
      "metadata": {
        "id": "tn0h28uD4Ud_"
      },
      "source": [
        "[RuCode] FakeNews classification competition https://competitions.codalab.org/competitions/26284\n",
        "score: 0.9585516913 (f1_score)"
      ]
    },
    {
      "cell_type": "code",
      "metadata": {
        "id": "_SL86eowUAwC",
        "outputId": "82e6cfd5-7cd7-4cb6-e959-9f5bab67774b",
        "colab": {
          "base_uri": "https://localhost:8080/",
          "height": 72
        }
      },
      "source": [
        "import numpy as np\n",
        "import pandas as pd\n",
        "import seaborn as sns\n",
        "import matplotlib.pyplot as plt\n",
        "import re\n",
        "from time import time\n",
        "import spacy\n",
        "import nltk\n",
        "from sklearn.feature_extraction.text import CountVectorizer\n",
        "from sklearn.feature_extraction.text import TfidfVectorizer\n",
        "from sklearn.preprocessing import LabelBinarizer\n",
        "from nltk.corpus import stopwords\n",
        "from nltk.stem.porter import PorterStemmer\n",
        "from wordcloud import WordCloud,STOPWORDS\n",
        "from nltk.stem import WordNetLemmatizer\n",
        "from nltk.tokenize import word_tokenize,sent_tokenize\n",
        "from bs4 import BeautifulSoup\n",
        "import re,string,unicodedata\n",
        "from nltk.tokenize.toktok import ToktokTokenizer\n",
        "from nltk.stem import LancasterStemmer,WordNetLemmatizer\n",
        "from sklearn.linear_model import LogisticRegression,SGDClassifier\n",
        "from sklearn.naive_bayes import MultinomialNB\n",
        "from sklearn.svm import SVC\n",
        "from sklearn.metrics import classification_report,confusion_matrix,accuracy_score\n",
        "from sklearn.model_selection import train_test_split\n",
        "from string import punctuation\n",
        "from nltk import pos_tag\n",
        "from nltk.corpus import wordnet\n",
        "import keras\n",
        "from keras.layers import Dense, Dropout,BatchNormalization, Activation\n",
        "from keras.models import Sequential\n",
        "import logging  # Setting up the loggings to monitor gensim\n",
        "logging.basicConfig(format=\"%(levelname)s - %(asctime)s: %(message)s\", datefmt= '%H:%M:%S', level=logging.INFO)"
      ],
      "execution_count": null,
      "outputs": [
        {
          "output_type": "stream",
          "text": [
            "/usr/local/lib/python3.6/dist-packages/statsmodels/tools/_testing.py:19: FutureWarning: pandas.util.testing is deprecated. Use the functions in the public API at pandas.testing instead.\n",
            "  import pandas.util.testing as tm\n"
          ],
          "name": "stderr"
        }
      ]
    },
    {
      "cell_type": "code",
      "metadata": {
        "id": "p-fKmYDoUP6q",
        "outputId": "ee365257-6a58-4586-c74c-a5cf783f99b6",
        "colab": {
          "base_uri": "https://localhost:8080/",
          "height": 35
        }
      },
      "source": [
        "from google.colab import drive\n",
        "drive.mount('/content/drive')"
      ],
      "execution_count": null,
      "outputs": [
        {
          "output_type": "stream",
          "text": [
            "Mounted at /content/drive\n"
          ],
          "name": "stdout"
        }
      ]
    },
    {
      "cell_type": "code",
      "metadata": {
        "id": "9FPxp-mxUQdN",
        "outputId": "9c8512b4-e57a-4bfa-fcdf-9b3a63a779d9",
        "colab": {
          "base_uri": "https://localhost:8080/",
          "height": 325
        }
      },
      "source": [
        "PATH = '/content/drive/My Drive/FakeNews/'\n",
        "pd.set_option(\"display.max_colwidth\", -1)\n",
        "df = pd.read_csv(PATH + 'train.txt',sep = '\\t')\n",
        "df_test = pd.read_csv(PATH + 'test.txt', sep = '\\t')\n",
        "#df = pd.read_csv(PATH + 'train.csv', quotechar=None, quoting=3,sep='#')\n",
        "#df_test = pd.read_csv(PATH + 'test.csv', quotechar=None, quoting=3)\n",
        "df.head(1)\n"
      ],
      "execution_count": null,
      "outputs": [
        {
          "output_type": "stream",
          "text": [
            "/usr/local/lib/python3.6/dist-packages/ipykernel_launcher.py:2: FutureWarning: Passing a negative integer is deprecated in version 1.0 and will not be supported in future version. Instead, use None to not limit the column width.\n",
            "  \n"
          ],
          "name": "stderr"
        },
        {
          "output_type": "execute_result",
          "data": {
            "text/html": [
              "<div>\n",
              "<style scoped>\n",
              "    .dataframe tbody tr th:only-of-type {\n",
              "        vertical-align: middle;\n",
              "    }\n",
              "\n",
              "    .dataframe tbody tr th {\n",
              "        vertical-align: top;\n",
              "    }\n",
              "\n",
              "    .dataframe thead th {\n",
              "        text-align: right;\n",
              "    }\n",
              "</style>\n",
              "<table border=\"1\" class=\"dataframe\">\n",
              "  <thead>\n",
              "    <tr style=\"text-align: right;\">\n",
              "      <th></th>\n",
              "      <th>text</th>\n",
              "      <th>class</th>\n",
              "    </tr>\n",
              "  </thead>\n",
              "  <tbody>\n",
              "    <tr>\n",
              "      <th>0</th>\n",
              "      <td>В Синьцзян-Уйгурском автономном районе Китая СУАР уйгурам будут давать по 10 тысяч юаней более 162 тысячи долларов за брак с представителями титульной нации  ханьцами. Местные власти сообщили об этом на своем официальном сайте передает South China Morning Post.Из-за процветающих в районе сепаратистских настроений Синьцзян давно является головной болью для Пекина. Снять напряженность и укрепить связи между местным населением и ханьцами власти Китая планируют с помощью программы поддержки межэтнических браков.Как отмечает издание для СУАР 10 тысяч юаней  это большие деньги учитывая что средний годовой доход на душу населения составляет всего 75 тысяч юаней более 12 тысячи долларов.Материалы по теме1117 13 июня 2014Великая антитеррористическая  стенаНа борьбу с внутренними врагами КНР тратит больше средств чем на оборону страныПомимо этого смешанные пары за каждый год прожитый в гармонии друг с другом будут получать по 50 тысяч юаней более 8 тысяч долларов. Дети рожденные в браке между уйгурами и ханьцами смогут бесплатно посещать детский сад и учиться в средней школе. При поступлении ребенка в институт правительство выделит семье грант в 5 тысяч юаней 814 долларов. Супруги также получат субсидии на здравоохранение.Однако несмотря на всевозможные льготы с момента появления закона в начале августа этого года ни один брак пока не был зарегистрирован. Всего по информации газеты на текущий момент заключено 54 брака между уйгурами и ханьцами. Однако эти пары никаких льгот не получают. К тому же браки между уйгурами и ханьцами как сообщает издание обычно заканчиваются разводом.Уйгуры составляют более 72 процентов населения СУАР китайцы-ханьцы  менее 26 процентов.</td>\n",
              "      <td>true</td>\n",
              "    </tr>\n",
              "  </tbody>\n",
              "</table>\n",
              "</div>"
            ],
            "text/plain": [
              "                                                                                                                                                                                                                                                                                                                                                                                                                                                                                                                                                                                                                                                                                                                                                                                                                                                                                                                                                                                                                                                                                                                                                                                                                                                                                                                                                                                                                                                                                                                                                                                                                                                                                                                                                 text class\n",
              "0  В Синьцзян-Уйгурском автономном районе Китая СУАР уйгурам будут давать по 10 тысяч юаней более 162 тысячи долларов за брак с представителями титульной нации  ханьцами. Местные власти сообщили об этом на своем официальном сайте передает South China Morning Post.Из-за процветающих в районе сепаратистских настроений Синьцзян давно является головной болью для Пекина. Снять напряженность и укрепить связи между местным населением и ханьцами власти Китая планируют с помощью программы поддержки межэтнических браков.Как отмечает издание для СУАР 10 тысяч юаней  это большие деньги учитывая что средний годовой доход на душу населения составляет всего 75 тысяч юаней более 12 тысячи долларов.Материалы по теме1117 13 июня 2014Великая антитеррористическая  стенаНа борьбу с внутренними врагами КНР тратит больше средств чем на оборону страныПомимо этого смешанные пары за каждый год прожитый в гармонии друг с другом будут получать по 50 тысяч юаней более 8 тысяч долларов. Дети рожденные в браке между уйгурами и ханьцами смогут бесплатно посещать детский сад и учиться в средней школе. При поступлении ребенка в институт правительство выделит семье грант в 5 тысяч юаней 814 долларов. Супруги также получат субсидии на здравоохранение.Однако несмотря на всевозможные льготы с момента появления закона в начале августа этого года ни один брак пока не был зарегистрирован. Всего по информации газеты на текущий момент заключено 54 брака между уйгурами и ханьцами. Однако эти пары никаких льгот не получают. К тому же браки между уйгурами и ханьцами как сообщает издание обычно заканчиваются разводом.Уйгуры составляют более 72 процентов населения СУАР китайцы-ханьцы  менее 26 процентов.  true"
            ]
          },
          "metadata": {
            "tags": []
          },
          "execution_count": 3
        }
      ]
    },
    {
      "cell_type": "code",
      "metadata": {
        "id": "VrvNcFjFU5Sr",
        "outputId": "077fc8cd-7a8c-4248-ba2c-230b8950a04d",
        "colab": {
          "base_uri": "https://localhost:8080/",
          "height": 245
        }
      },
      "source": [
        "df.dropna(inplace=True)\n",
        "text = df['text']\n",
        "text_test = df_test['text']\n",
        "labels = df['class']\n",
        "text"
      ],
      "execution_count": null,
      "outputs": [
        {
          "output_type": "execute_result",
          "data": {
            "text/plain": [
              "0        В Синьцзян-Уйгурском автономном районе Китая СУАР уйгурам будут давать по 10 тысяч юаней более 162 тысячи долларов за брак с представителями титульной нации  ханьцами. Местные власти сообщили об этом на своем официальном сайте передает South China Morning Post.Из-за процветающих в районе сепаратистских настроений Синьцзян давно является головной болью для Пекина. Снять напряженность и укрепить связи между местным населением и ханьцами власти Китая планируют с помощью программы поддержки межэтнических браков.Как отмечает издание для СУАР 10 тысяч юаней  это большие деньги учитывая что средний годовой доход на душу населения составляет всего 75 тысяч юаней более 12 тысячи долларов.Материалы по теме1117 13 июня 2014Великая антитеррористическая  стенаНа борьбу с внутренними врагами КНР тратит больше средств чем на оборону страныПомимо этого смешанные пары за каждый год прожитый в гармонии друг с другом будут получать по 50 тысяч юаней более 8 тысяч долларов. Дети рожденные в браке между уйгурами и ханьцами смогут бесплатно посещать детский сад и учиться в средней школе. При поступлении ребенка в институт правительство выделит семье грант в 5 тысяч юаней 814 долларов. Супруги также получат субсидии на здравоохранение.Однако несмотря на всевозможные льготы с момента появления закона в начале августа этого года ни один брак пока не был зарегистрирован. Всего по информации газеты на текущий момент заключено 54 брака между уйгурами и ханьцами. Однако эти пары никаких льгот не получают. К тому же браки между уйгурами и ханьцами как сообщает издание обычно заканчиваются разводом.Уйгуры составляют более 72 процентов населения СУАР китайцы-ханьцы  менее 26 процентов.                                                                                                                                          \n",
              "1        Режиссер Дэвид Линч один из создателей телесериала Твин Пикс отказался участвовать в съемках его продолжения. Об этом он сообщил в своем Twitter.После одного года и четырех месяцев переговоров с каналом Showtime  прим. \"Ленты.ру\" я решил уйти потому что не хватает денег сделать все по нашему сценарию  написал Линч.По его словам он уже сообщил всем актерам приглашенным в проект что дальнейшая работа будет проходить без него. Тем не менее режиссер выразил надежду что новые серии Твин Пикса все-таки появятся на экранах.В середине марта Линч уже заявлял что запуск третьего сезона Твин Пикса может не состояться. В проект должны были вернуться исполнители главных ролей в оригинальном сериале  Кайл Маклахлен Дейл Купер и Шерил Ли Лора Палмер.Третий сезон Твин Пикса должен был выйти на канале Showtime в 2016 году и состоять из девяти серий. Сериал создали Дэвид Линч и Марк Фрост. Он выходил в 1990-1991-м на канале ABC продержавшись два сезона. Проект был снят с эфира из-за начавших снижаться рейтингов и получил полнометражный приквел Твин Пикс Огонь иди со мной премьера которого состоялась на Каннском фестивале 1992 года.                                                                                                                                                                                                                                                                                                                                                                                                                                                                                                                                                                                                                                                                                                                 \n",
              "2        Министр регионального развития России Виктор Басаргин возглавил наблюдательный совет госкорпорации \"Фонд содействия реформированию ЖКХ\". Об этом сообщается на сайте правительства страны. На этом посту Басаргин сменил вице-премьера Дмитрия Козака.Ранее Басаргин являлся заместителем председателя набсовета госкорпорации.В правительственном сообщении отмечается что Козак исключается из состава наблюдательного совета госкорпорации. В то же время в состав набсовета включается замглавы Минэкономразвития Станислав Воскресенский.5 марта стало известно что Басаргин был назначен главой наблюдательного совета госкорпорации \"Олимпстрой\". Ранее этот пост также занимал Козак. При этом как указывают РИА Новости Козак в соответствии с распределением обязанностей между вице-премьерами по-прежнему курирует в правительстве подготовку к проведению сочинской Олимпиады 2014 года и политику государства в области ЖКХ строительства и архитектуры.В начале марта 2012 года президент России Дмитрий Медведев заявил что хищения и злоупотребления в сфере ЖКХ \"вышли на уровень эпидемии\" и призвал МВД активнее расследовать преступления в этой области. Сразу после выступления Медведев председатель Счетной палаты Сергей Степашин заверил что его ведомство в течение текущего года проверит работу фонда реформирования ЖКХ а также жилищную политику местных властей и тарифную политику. Осенью прошлого года сообщалось что Счетная палата обнаружила в \"Фонде содействия реформированию ЖКХ\" нарушения на общую сумму 333 миллиарда рублей.В январе текущего года при Генпрокуратуре была создана специальная группа по контролю за расходованием средств выделяемых на ЖКХ. Это было сделано после того как в ноябре 2011 года прокуратура сообщила что по итогам проведенных с марта по ноябрь проверок в сфере ЖКХ было выявлено свыше 16 тысяч нарушений.\n",
              "3        На несогласованной акции в поддержку украинской летчицы Надежды Савченко в Санкт-Петербурге задержали троих человек. Как сообщает Росбалт полицейские сопроводили активистов в машину чтобы доставить их в отделение.По словам одного из участников акции Валерия Угарова это произошло когда активисты развернули флаг Украины. По информации Угарова всего задержанных пятеро предположительно им вменяют статью Нарушение установленного порядка организации либо проведения собрания митинга демонстрации шествия или пикетирования.Сотрудники правоохранительных органов позволили активистам выстроиться в цепочку и взяться за руки они прикрепили к одежде желто-синие ленточки некоторые держали в руках подсолнухи. Лозунгов никто не скандировал.Акция продлилась 20 минут. В ней по данным БалтИнфо приняли участие около 100 человек. Флешмоб прошел напротив Гостиного двора цепочка выстроилась вдоль Невского проспекта.На этой неделе в Санкт-Петербурге состоялось несколько одиночных пикетов в поддержку Савченко под лозунгом Не дайте умереть Надежде Савченко отказывалась от еды продолжительное время однако 5 марта решила приостановить голодовку.Савченко обвиняется в России в пособничестве в убийстве журналистов ВГТРК репортеры Игорь Корнелюк и Антон Волошин погибли под Луганском в июне 2014 года в результате минометного обстрела и незаконном пересечении границы РФ. По версии следствия Савченко которая служила в украинской армии оператором-наводчиком вертолета Ми-24 а во время отпуска вступила в батальон Айдар определила координаты журналистов и передала данные украинским силовикам. Она находится под стражей в России с июля 2014 года арест ей продлен до 13 мая.                                                                                                                                                                  \n",
              "4        Госдума РФ одобрила в первом чтении законопроект о правилах выезда за рубеж россиян имеющих допуск секретности сообщает ИТАР-ТАСС. Документ предполагает увеличение срока оформления заграничного паспорта для этой категории граждан до трех месяцев.В пояснительной записке говорится что оформить загранпаспорт для лиц с допуском секретности не представляется возможным в месячный срок так как этого времени не достаточно для проведения всех необходимых проверок. Речь идет как о гражданах имеющих допуск на момент оформления паспорта так и о тех кто получал право работать с секретными документами в прошлом.В настоящее время срок оформления биометрического загранпаспорта действующего в течение 10 лет составляет 30 дней. Пошлина на получение документа составляет 2500 рублей.                                                                                                                                                                                                                                                                                                                                                                                                                                                                                                                                                                                                                                                                                                                                                                                                                                                                                                                                                                                                                                                                                      \n",
              "                                                                                                                                                                                                                                                                                                                                                                                                          ...                                                                                                                                                                                                                                                                                                                                                                                                                                                                                                                                                                                                                                                                                                                                                                                                                                                                                                                                                                                                                                                                                                                                                                                                                                                                                                                                                                                                                                                                                        \n",
              "23878    Пожар на плавучем дебаркадере в центре Москвы ликвидирован. Об этом сообщает РИА Новости со ссылкой на источник в правоохранительных органах столицы. По словам собеседника агентства на месте происшествия проводится разборка деревянных конструкций.Администрация ресторана \"Мама Зоя\"  расположенного на дебаркадере рассказали собеседники агентства не может найти трех своих сотрудников. В то же время представитель пресс-службы МЧС сообщил РИА Новости что \"пострадавших в ходе ликвидации возгорания нет\".Пожар на двухэтажном дебаркадере расположенном около съезда с Садового кольца на Фрунзенскую набережную начался рано утром 8 июля. Сообщалось что ресторан был полностью охвачен огнем. Пожару присвоили вторую категорию сложности по пятибалльной шкале. Причины инцидента пока не уточняются.На место происшествия прибыли более десяти пожарных расчетов. В тушении огня также был задействован пожарный катер. По словам собеседника агентства существовала опасность распространения огня на другой дебаркадер расположенный в 20 метрах от ресторана.                                                                                                                                                                                                                                                                                                                                                                                                                                                                                                                                                                                                                                                                                                                                                                                                          \n",
              "23879    В Омске возбудили уголовное дело в отношении 60-летнего мужчины, избившего родного 58-летнего брата в ходе имущественного конфликта. Об этом сообщает издание «Новый Омск».Родственники поссорились из-за квартиры, словесная перепалка быстро переросла в драку. Старший брат нанес младшему удары молотком и тростью. Россиянина пришлось госпитализировать, ему диагностировали различные переломы и раны лица и тела.Материалы по теме00:02 — 12 марта«Крепкие парни говорили, что будут доить наш дом»Москвичи вступили в неравный бой с управляющей компанией. Теперь им угрожают расправойВ настоящее время избитый мужчина находится в реанимации. Его брату между тем грозит тюремное заключение на срок до десяти лет по статье 111 Уголовного кодекса («Умышленное причинение тяжкого вреда здоровью»).Ранее в июле в Калининграде возбудили уголовное дело в отношении 43-летнего местного жителя, подозреваемого в краже имущества на 215 тысяч рублей. Мужчина обиделся на бывшую возлюбленную из-за разрыва отношений и решил ограбить ее квартиру.Больше интересного и удивительного — в нашем Instagram. Подписывайся                                                                                                                                                                                                                                                                                                                                                                                                                                                                                                                                                                                                                                                                                                                                                      \n",
              "23880    \\n    var PROJECTID  80674\\n    function w d c \\n      wc  wc  .pushfunction \\n        var options  \\n          project PROJECTID\\n          chapters \"Силовыеструктуры\"\"Полицияиспецслужбы\"\"lenta.ruСиловыеструктурыПолицияиспецслужбыСтрелявшегоизавтоматавцентреМосквымужчинузадержали\"  Chapters страницы\\n        \\n        try \\n          w.top100Counter  new top100options\\n         catche  \\n      \\n\\n      var n  d.getElementsByTagName\"script\"0\\n          s  d.createElement\"script\"\\n          f  function   n.parentNode.insertBefores n \\n      s.type  \"textjavascript\"\\n      s.async  true\\n      s.src \\n          d.location.protocol  \"https\" ? \"https\"  \"http\" \\n          \"st.top100.rutop100top100.js\"\\n\\n      if w.opera  \"object Opera\" \\n        d.addEventListener\"DOMContentLoaded\" f false\\n       else  f \\n    window document \"top100q\"\\n                                                                                                                                                                                                                                                                                                                                                                                                                                                                                                                                                                                                                                                                                                                                                                                                                                                                                                                                                                                                             \n",
              "23881    Бывший главный тренер московского футбольного клуба Спартак Валерий Карпин отказался возглавить израильский Маккаби из Тель-Авива. Об этом сообщает издание One.После ухода Паулу Соузы в Базель руководство клуба сделало предложение российскому наставнику однако Карпин ответил отказом несмотря на хорошие финансовые условия.В минувшем сезоне клуб из Тель-Авива занял первое место на 16 очков опередив ближайшего преследователя  Хапоэль Беэр-Шева.Ранее сообщалось что в услугах Карпина проявляет заинтересованность испанская Малага а также один из клубов английской премьер-лиги.18 марта 2014 года Спартак и Валерий Карпин расторгли соглашение по обоюдному согласию команду возглавил Дмитрий Гунько.Красно-белые завершили минувший сезоне на шестом месте. Московский клуб примет участие в розыгрыше Лиги Европы так как Ростов завоевавший это право за победу в Кубке страны не смог получить лицензию дающую право выступать в еврокубках.                                                                                                                                                                                                                                                                                                                                                                                                                                                                                                                                                                                                                                                                                                                                                                                                                                                                                                                        \n",
              "23882    Европейское государство Босния и Герцеговина может стать первой страной ставшей членом НАТО которая пополнит ряды альянса не целиком а по частям. Об этом во время во визита в Сараево заявил генеральный секретарь организации Йенс Столтенберг отвечая на вопрос журналиста.\\nВы задаёте очень сложный вопрос. Я честно сказать к нему совершенно не был готов. Думаю балканский регион и так достаточно пополнил НАТО новыми участниками. В состав альянса уже входят Словения Албания Хорватия Черногория готовится вступить Сербия. А вы хотите чтобы вошли ещё две страны. Давайте пусть сначала в НАТО войдёт Босния потом войдёт Герцеговина. Что думает по этому поводу Республика Сербская? Я же говорю Сербия готовится ко вступлению в НАТО  сказал Столтенберг.\\nТакже глава альянса анонсировал подготовку к вступлению в альянс Косово Северной и Южной Македонии.\\n \\n                                                                                                                                                                                                                                                                                                                                                                                                                                                                                                                                                                                                                                                                                                                                                                                                                                                                                                                                                                                                      \n",
              "Name: text, Length: 23878, dtype: object"
            ]
          },
          "metadata": {
            "tags": []
          },
          "execution_count": 5
        }
      ]
    },
    {
      "cell_type": "code",
      "metadata": {
        "id": "0TDec1-sE0t-",
        "outputId": "4b3615aa-2e31-4cd8-8132-bc35512989a8",
        "colab": {
          "base_uri": "https://localhost:8080/",
          "height": 245
        }
      },
      "source": [
        "text.dropna(inplace=True)\n",
        "text_test.dropna(inplace=True)\n",
        "text_test"
      ],
      "execution_count": null,
      "outputs": [
        {
          "output_type": "execute_result",
          "data": {
            "text/plain": [
              "0       Британское министерство информации приняло декрет который запрещает СМИ без согласования с упоминаемыми персонами употреблять в новостях гендерно-некорректные слова включая мужчина и женщина.\\nПо мнению главы ведомства невозможно точно определить пол без согласования с конкретной персоной. Даже наличие половых признаков не может быть убедительным так как человек сам определяет свою принадлежность к определённому полу.\\nВсего в списке 16 слов которые могут прямо или неявно указывать на гендер человека. За употребление каждого из них без письменного согласия упоминаемого предусмотрены штрафы в разных объёмах. Привлекать к ответственности издания будут даже в том случае если у того кто был упомянут в контексте определённого гендера нет претензий к изданию.\\n                                                                                                                                                                                                                                                                                                                                                                                                                                                                                                                                                                                                                                                                                                                                                                                                                                                                                                                                                                                                                                                                                                                                                                                                                                                                                                                                                                                                                                                                                                                                                                                                                                                                                                                                            \n",
              "1       Альбом \"Chief\" кантри-исполнителя Эрика Черча возглавил чарт Billboard 200.Пластинка поступила в продажу 26 июля и за первую же неделю разошлась тиражом в 145 тысяч экземпляров. Это уже третий студийный альбом Черча. Предыдущие пластинки выходили в 2006 и 2009 годах. Ни одна из них не сумела подняться выше 17-й строки чарта Billboard 200.Альбом британской певицы Адель \"21\" являвшийся лидером хит-парада на прошлой неделе в этот раз переместился на второе место. За неделю в Америке было продано 83 тысячи копий этой пластинки.На третьей строке Billboard 200 дебютировал альбом Келли Роуланд \"Here I Am\". Диск разошелся тиражом в 77 тысяч экземпляров.                                                                                                                                                                                                                                                                                                                                                                                                                                                                                                                                                                                                                                                                                                                                                                                                                                                                                                                                                                                                                                                                                                                                                                                                                                                                                                                                                                                                                                                                                                                                                                                                                                                                                                                                                                                                                                                            \n",
              "2       Новый вид микрокредитных организаций появился на территории Российской Федерации. С начала нового года в стране открылось свыше 120 точек выдающих гражданам пищевые займы под процент. Кредиторы сообщают что средний заём берется преимущественно в виде сырокопченой колбасы различных видов икры мяса красной рыбы и фруктов. Для получения продовольственного займа гражданину РФ достаточно иметь с собой только паспорт а в качестве выплат во многих офисах помимо денег принимают бытовую технику и драгоценности.\\nЧастенько ко мне обращались друзья и знакомые с просьбой одолжить то мандаринов то палку колбасы то курицу. Особенно они активизировались ближе к Новому году. Именно это надоумило меня открыть такое как мне кажется перспективное дело. От клиентов отбоя нет каждый день не менее двух сотен человек обращаются так что даже холодильники докупать пришлось благо иногда их заёмщики сами приносят  рассказывает предприниматель Антон Живоглотов.\\nПо мнению экспертов ЦБ РФ открытие большого количества подобного рода предприятий никак не связано с повышением НДС и обеднением населения а является признаком эффективной работы финансовых специалистов. В ведомстве уверены что столь стремительный рост малого бизнеса не принесёт экономике страны ничего кроме положительной динамики роста ВВП.\\n                                                                                                                                                                                                                                                                                                                                                                                                                                                                                                                                                                                                                                                                                                                                                                                                                                                                                                                                                                                                                                                                                                                                                                                           \n",
              "3       Один из крупнейших торговых комплексов Москвы Садовод будет включён в список культурного наследия ЮНЕСКО. К такому выводу пришла комиссия ООН по вопросам образования науки и культуры после инспекции самого большого оптового рынка России.\\nНесмотря на неидеальную чистоту следует отметить необычайный мультикультурализм заложенный здесь на протяжении десятилетий. Все континенты сливаются в один а народы общаются друг с другом как братья. При этом нет никаких этнических расовых и религиозных конфликтов. Надеюсь в будущем такие центры появятся в Берлине Париже Лондоне и других мировых мегаполисах  поделилась впечатлениями от посещения рынка инспектор ООН Жаннет Лаврин.\\nАдминистрация Садовода с воодушевлением восприняла радостную для себя новость и в связи с обретением почётного статуса объявила шашлычную неделю в рамках которой хозяева обещают побаловать покупателей шашлыка щедрыми скидками. Мэрия Москвы уже объявила конкурс на создание памятной таблички с логотипом ЮНЕСКО.\\n                                                                                                                                                                                                                                                                                                                                                                                                                                                                                                                                                                                                                                                                                                                                                                                                                                                                                                                                                                                                                                                                                                                                                                                                                                                                                                                                                                                                                                                                                                               \n",
              "4       Министерство обороны Белоруссии приостановила полеты военной авиации сообщает ИТАР-ТАСС. Приостановка связана с проведением расследования катастрофы вертолета Ми-24 в результате которой погибли все трое членов экипажа. Брестская межгарнизонная военная прокуратура уже возбудила уголовное дело по части 2 статьи 465 УК Белоруссии \"Нарушение правил полетов и подготовки к ним либо иных правил эксплуатации военных летательных аппаратов повлекшее по неосторожности смерть двух и более лиц\".Вертолет Ми-24 ВВС и войск ПВО Белоруссии выполнявший плановый учебно-тренировочный полет разбился при заходе на посадку в районе аэродрома \"Пружаны\" в Брестской области. По данным военных авария произошла в 1945 по местному времени 2045 по времени Москвы. Масштабная приостановка полетов вероятно связана с еще одним расследованием проводимым Министерством обороны Белоруссии.20 октября 2011 года неподалеку от границы с Литвой разбился вертолет AS355 NP Государственного пограничного комитета Белоруссии. Находившиеся на борту вертолета двое членов экипажа и трое журналистов съемочной группы телерадиокомпании \"Союз\" погибли. В связи с инцидентом были приостановлены полеты пограничной авиации.                                                                                                                                                                                                                                                                                                                                                                                                                                                                                                                                                                                                                                                                                                                                                                                                                                                                                                                                                                                                                                                                                                                                                                                                                                                                                                         \n",
              "                                                                                                                                                                                                                                                                                                                                                                                                                                                                                                                                                                                                                      ...                                                                                                                                                                                                                                                                                                                                                                                                                                                                                                                                                                                                                                                                                                                                                                                                                                                                                                                                                                                                                                                                                                                                                                                                                                                                                                                                                                                                                                                                                                                                                                                                                                                                                                                                                                                                                                                                                                                        \n",
              "6019    Представители интернет-сообщества попросили Госдумe отложить рассмотрение во втором чтении законопроекта о внесении изменений в антипиратский закон намеченное на пятницу 4 июля. Об этом говорится в письме на имя председателя Госдумы Сергея Нарышкина с которым ознакомилась Лента.ру.Письмо подписано директором Российской ассоциации электронных коммуникаций РАЭК Сергеем Плуготаренко исполнительным директором ООО ВКонтакте Дмитрием Сергеевым руководителем юридической службы Mail.Ru Group  Антоном Мальгиновым и директором по внешним коммуникациям холдинга RamblerCo Матвеем Алексеевым.По мнению отрасли наилучший способ нормализации взаимоотношений с правообладателями лежит в рамках переговорного процесса и поиска коммерческих моделей сотрудничества что сейчас делают практически все крупнейшие ресурсы  говорится в обращении.Однако на ведение переговоров о заключении договоров с правообладателями и организационно-техническую подготовку к потенциальному принятию законопроекта потребуется время говорится в письме. Поэтому представители интернет-отрасли опасаются что если законопроект будет принят и вступит в силу в сжатые сроки то индустрия не успеет принять необходимые меры для соответствия новым нормам и минимизации негативных эффектов от закона.В связи с этим интернет-сообщество просит отложить рассмотрение поправок в антипиратский закон для проведения дополнительных консультаций с индустрией по поводу предлагаемых изменений и предоставления отрасли времени для подготовки к потенциальному принятию законопроекта.В пятницу 4 июля 2014 года во втором чтении планируется рассмотрение законопроекта направленного на расширение применения так называемого антипиратского закона. В частности законопроектом предлагается ограничить доступ к сайтам через которые распространяются аудиовизуальные и литературные произведения прямые телевизионные трансляции включая трансляции спортивных соревнований программы для ЭВМ и другие с нарушением авторских прав. Ранее ограничения касались только сайтов через которые распространяются кино- и телефильмы.Кроме того новая редакция антипиратского закона предполагает возможность наказания любого пользователя сети интернет за распространение информации необходимой для получения доступа к контенту размещенному с нарушением авторских прав. Другими словами проект предлагает наказывать интернет-пользователей за распространение ссылок на сайты где контент выложен в нарушением авторских прав. \n",
              "6020    Московские кришнаиты как и было запланировано в четверг 7 июня провели ритуальную церемонию в честь начала строительства своего храма. Об этом сообщается в пресс-релизе поступившем в редакцию \"Ленты.ру\".Отмечается что речь идет не о закладке первого камня как об этом писала пресса а о специальной ритуальной церемонии \"ягья\" которую не обязательно проводить на той земле где будет возведен храм.Церемония была проведена в Храме Кришны в Москве. На церемонии присутствовал посол Индии в России Аджай Малхотра представители префектуры и депутаты Мосгордумы говорится в пресс-релизе. Малхотра выразил надежду что в Москве все-таки появится ведический культурный центр который станет \"одним из самых важных мест в столице\".Церемония изначально должна была пройти в месте возведения храма - на Новосходненском шоссе в Молжаниновском районе на севере Москвы граничит с Химками. В Химках однако состоялся пикет против возведения Центра ведической культуры. В акции приняли участие несколько сотен человек сообщает \"Интерфакс\".Участники акции 7 июня держали в руках плакаты \"Христиане - против\" \"Мусульмане - против\" \"В 1612 году прогнали поляков в 1812 году - французов в 2012 году прогоним кришнаитов\".Одним из участников пикета был настоятель храма Георгия Победоносца в Химках священник Сергий Завьялов. Он выразил удовлетворение тем что кришнаитское мероприятие с участием посла Индии было отменено из-за пикета отметив что ранее москвичи уже отстояли свое право \"не делить родной город с представителями этой деструктивной организации\".Общество сознания Кришны неоднократно предпринимало попытки возвести свой центр в Москве. Так в 2005 году кришнаитам был выделен участок на Ленинградском шоссе однако затем правительство Москвы отменило это решение.Земли на Новосходненском шоссе были выделены городскими властями Обществу сознания Кришны для строительства центра в 2010 году.                                                                                                                                                                                                                                                                                                                                                                                                                                                                                                                                                                                    \n",
              "6021    Компания Fox Broadcasting договорились с оператором кабельного телевидения Time Warner Cable о плате за трансляцию принадлежащих ей программ сообщает Reuters.Срок соглашения ранее заключенного Fox и Time Warner Cable истекал 31 декабря 2009 года. Миллионы американских зрителей сообщает Associated Press оказались перед угрозой провести новогодние праздники без любимых передач. Однако обе стороны согласились продлить действие старого контракта на один день 1 января продолжая при этом вести переговоры о новом соглашении.Официально параметры заключенного соглашения не раскрываются однако источник близкий к переговорам сообщил агентству что Fox Broadcasting согласилась получать за каждого подписчика Time Warner Cable 20-25 центов.Компания Fox Broadcasting входящая в структуру News Corp. Руперта Мердока  требовала от Time Warner Cable платить по 1 доллару с каждого подписчика за трансляцию ее продукции. Руководство кабельного оператора назвало это предложение \"неразумным\".По действовавшему до 31 декабря соглашению компания Fox за распространение вещательного сигнала в сети Time Warner Cable никаких выплат не получала. До последнего времени бесплатное распространение сигнала было обычной практикой - вещательные компании получали доход за счет рекламы. Однако некоторые вещательные компании решили изменить привычную систему и стали использовать схему по которой работают кабельные каналы получающие доход не только от рекламы но и от выплат операторов.Time Warner Cable является вторым крупнейшим в США кабельным оператором. Компания Fox Broadcasting в частности владеет правами на телетрансляции матчей NFL и популярных сериалов включая \"Симпсонов\" и телешоу например \"American Idol\" российский аналог - \"Фабрика звезд\". Соглашение между Fox и Time Warner Cable по мнению экспертов послужит примером для других подобных договоров на телерынке США.                                                                                                                                                                                                                                                                                                                                                                                                                                                                                                                                                                                                    \n",
              "6022    Гражданка Великобритании Джорджина Чайлдс задолжала крупную сумму денег банкам и лишилась жилья. Долги образовались из-за чрезмерных расходов на участие в церемониях бракосочетания: за последние четыре года женщину пригласили на 14 свадеб, и ни одной из них она не пропустила. Об этом пишет Independent.О своей «свадебной» проблеме 30-летняя Чайлдс рассказала в эфире утреннего телешоу на канале ITV. В общей сложности участие в 14 церемониях обошлось ей в 13 тысяч фунтов (более миллиона рублей). Женщина оплачивала расходы на транспорт и отели кредитными картами. В итоге долговая нагрузка стала непомерной, и она вынуждена была отказаться от собственного жилья.Сейчас Чайлдс живет в доме родителей в графстве Эссекс. Несмотря на сложившуюся ситуацию, она утверждает, что ни за что не ответила бы отказом на очередное свадебное приглашение, потому что это стало бы «социальным провалом».Материалы по теме00:04 — 29 декабря 2017Окольцевали на миллионЗолотые троны и акробаты: рэперы и принцы сходят с ума на роскошных свадьбахБольшинство телезрителей, обсуждавших программу в социальных сетях, негативно оценили поведение женщины. «Это вот сейчас серьезно? Она будет жить с родителями, но не откажет приглашающему», — цитирует издание одного из интернет-пользователей. «Мне ее жаль, но она сама виновата в том, что потратила столько денег», — написал другой.По данным Independent, в среднем участие в свадьбе обходится британцу в тысячу фунтов (86 тысяч рублей). Если речь идет о церемонии за рубежом, расходы увеличиваются вдвое.В конце 2017-го в СМИ активно обсуждалась история об американке, избавившейся от восьми килограммов кожи, чтобы идеально выглядеть на собственной свадьбе. 41-летняя женщина сбросила половину собственного веса, отказавшись от фастфуда в пользу здорового питания, но из-за похудения она столкнулась с новой проблемой: ее кожа растянулась и свисала складками. Лишнее пришлось удалять хирургическим путем.Перейти в «Мою Ленту»Обсудит                                                                                                                                                                                                                                                                                                                                                                                                                                                                                                 \n",
              "6023    Участники экологических движений заблокировали на северо-западе Франции поезд направлявшийся в Германию со 123 тоннами ядерных отходов сообщает Agence France-Presse. Некоторые активисты приковали себя к поезду.Ядерное топливо которое вез поезд ранее использовалось в ФРГ для выработки электричества. Во Франции отходы были переработаны на заводе компании Areva после чего должны были быть возвращены. Состав который защитники природы окрестили самым радиоактивным в истории направлялся из Валоня Нормандия в немецкий Горлебен куда должен был прибыть в субботу 6 ноября. Поезд состоит из 14 вагонов 11 с отходами и 3 с полицейскими.Однако экологи преградили ему путь в городе Кан. Они утверждают что этот поезд \"в два раза радиоактивней Чернобыля\". Активисты развернули баннер с надписью \"Сопротивление без границ\" и заявили что поезд представляет немедленную угрозу для жизней в случае ЧП а также долгосрочную опасность для здоровья. По мнению экологов хранилище для отходов в Горлебене не обеспечит должной безопасности. Они требуют чтобы отходы были переправлены в более надежное место.До этого сообщалось что поезд в Германии собирались встречать 30 тысяч протестующих и 16 тысяч полицейских. Представитель Areva Кристоф Неньо Christophe Neugnot ранее отверг обвинения со стороны экологических организаций. В частности он исключил возможность утечки отработанного топлива назвав поезд \"крепостью на колесах\". \"Контейнеры выстоят даже если в них на полной скорости врежется другой поезд\" - сказал Неньо.Также он заявил что рекорд по радиоактивности этот поезд не установил ранее уже 10 подобных составов пришли из Франции в Германию. По оценке Areva груз эквивалентен отходам которые за год получаются при выработке электричества для нужд 24 миллионов немцев.                                                                                                                                                                                                                                                                                                                                                                                                                                                                                                                                                                                                                                                                                                        \n",
              "Name: text, Length: 6024, dtype: object"
            ]
          },
          "metadata": {
            "tags": []
          },
          "execution_count": 6
        }
      ]
    },
    {
      "cell_type": "code",
      "metadata": {
        "id": "RyoImRnI8Rqe",
        "outputId": "3b9affa0-1d45-47be-9c63-7472de2f7ce0",
        "colab": {
          "base_uri": "https://localhost:8080/",
          "height": 228
        }
      },
      "source": [
        "!pip install pymorphy2"
      ],
      "execution_count": null,
      "outputs": [
        {
          "output_type": "stream",
          "text": [
            "Collecting pymorphy2\n",
            "\u001b[?25l  Downloading https://files.pythonhosted.org/packages/07/57/b2ff2fae3376d4f3c697b9886b64a54b476e1a332c67eee9f88e7f1ae8c9/pymorphy2-0.9.1-py3-none-any.whl (55kB)\n",
            "\u001b[K     |████████████████████████████████| 61kB 1.7MB/s \n",
            "\u001b[?25hCollecting dawg-python>=0.7.1\n",
            "  Downloading https://files.pythonhosted.org/packages/6a/84/ff1ce2071d4c650ec85745766c0047ccc3b5036f1d03559fd46bb38b5eeb/DAWG_Python-0.7.2-py2.py3-none-any.whl\n",
            "Collecting pymorphy2-dicts-ru<3.0,>=2.4\n",
            "\u001b[?25l  Downloading https://files.pythonhosted.org/packages/7c/9b/358faaff410f65a4ad159275e897b5956dcb20576c5b8e764b971c1634d7/pymorphy2_dicts_ru-2.4.404381.4453942-py2.py3-none-any.whl (8.0MB)\n",
            "\u001b[K     |████████████████████████████████| 8.0MB 5.9MB/s \n",
            "\u001b[?25hRequirement already satisfied: docopt>=0.6 in /usr/local/lib/python3.6/dist-packages (from pymorphy2) (0.6.2)\n",
            "Installing collected packages: dawg-python, pymorphy2-dicts-ru, pymorphy2\n",
            "Successfully installed dawg-python-0.7.2 pymorphy2-0.9.1 pymorphy2-dicts-ru-2.4.404381.4453942\n"
          ],
          "name": "stdout"
        }
      ]
    },
    {
      "cell_type": "code",
      "metadata": {
        "id": "M1mID03W9O4o",
        "outputId": "c9e98a6a-6300-4720-8999-efbe33a84a35",
        "colab": {
          "base_uri": "https://localhost:8080/",
          "height": 52
        }
      },
      "source": [
        "import pymorphy2\n",
        "morph = pymorphy2.MorphAnalyzer()"
      ],
      "execution_count": null,
      "outputs": [
        {
          "output_type": "stream",
          "text": [
            "INFO - 20:25:20: Loading dictionaries from /usr/local/lib/python3.6/dist-packages/pymorphy2_dicts_ru/data\n",
            "INFO - 20:25:20: format: 2.4, revision: 404381, updated: 2017-08-28T16:38:19.536338\n"
          ],
          "name": "stderr"
        }
      ]
    },
    {
      "cell_type": "code",
      "metadata": {
        "id": "eU8e5B9493Uj",
        "outputId": "cce4c906-71b0-40d8-f759-d7032efe4bce",
        "colab": {
          "base_uri": "https://localhost:8080/",
          "height": 67,
          "referenced_widgets": [
            "1245445ce5394c36ade0d171cc4989dd",
            "2d0ebaee30b94a67987b4f5d868fe561",
            "71549076b86943488a755397083784ac",
            "2dda1cffb68249d695d86dd16e96c574",
            "ead37e1059614aecb298ebbd9b44f2c2",
            "de475d9207f4410ea3efae304a0829a2",
            "13eaec973f91411e9f47262e9b45cfa6",
            "3d986da09c1d44e2b5c8fbdda5b77bb9"
          ]
        }
      },
      "source": [
        "import re\n",
        "from tqdm.notebook import tqdm\n",
        "tqdm.pandas()\n",
        "def tokenize(doc):\n",
        "  words = []\n",
        "  lst = re.split('\\.|\\s',doc)\n",
        "  for word in lst:\n",
        "    p = morph.parse(word)[0]\n",
        "    words.append(p.normal_form)\n",
        "  return words\n",
        "tokens = text.progress_apply(tokenize)\n"
      ],
      "execution_count": null,
      "outputs": [
        {
          "output_type": "display_data",
          "data": {
            "application/vnd.jupyter.widget-view+json": {
              "model_id": "1245445ce5394c36ade0d171cc4989dd",
              "version_minor": 0,
              "version_major": 2
            },
            "text/plain": [
              "HBox(children=(FloatProgress(value=0.0, max=23878.0), HTML(value='')))"
            ]
          },
          "metadata": {
            "tags": []
          }
        },
        {
          "output_type": "stream",
          "text": [
            "\n"
          ],
          "name": "stdout"
        }
      ]
    },
    {
      "cell_type": "code",
      "metadata": {
        "id": "z4yngd6RKXXJ",
        "outputId": "a6881281-15c0-4a0d-f6f7-6e45149fd7ea",
        "colab": {
          "base_uri": "https://localhost:8080/",
          "height": 67,
          "referenced_widgets": [
            "322fc0684be34697b860c57a0a22979e",
            "bf60a0262caa47478747fbc059698d37",
            "c26dcb43a1ee4330a39bc2801abf0e67",
            "b3beeec027a544bbaa7890d09261121f",
            "f5ab6bf970284810a9fee86fd372ca15",
            "73c8b31ff6f24589923cd49d7a5c665b",
            "8228fa98700540ffadd576e68289feda",
            "9a9fec0eea38493cbf4fce3cd5947cf4"
          ]
        }
      },
      "source": [
        "tokens_test = text_test.progress_apply(tokenize)"
      ],
      "execution_count": null,
      "outputs": [
        {
          "output_type": "display_data",
          "data": {
            "application/vnd.jupyter.widget-view+json": {
              "model_id": "322fc0684be34697b860c57a0a22979e",
              "version_minor": 0,
              "version_major": 2
            },
            "text/plain": [
              "HBox(children=(FloatProgress(value=0.0, max=6024.0), HTML(value='')))"
            ]
          },
          "metadata": {
            "tags": []
          }
        },
        {
          "output_type": "stream",
          "text": [
            "\n"
          ],
          "name": "stdout"
        }
      ]
    },
    {
      "cell_type": "code",
      "metadata": {
        "id": "lgQZuTo99Wf6",
        "outputId": "7e6f80e9-63a5-4ffe-a6a1-6a0a9fcef270",
        "colab": {
          "base_uri": "https://localhost:8080/",
          "height": 240,
          "referenced_widgets": [
            "ef04542149c04ee89f572bb78d6d4806",
            "59b06725d9eb4e90946d211d6404a7b7",
            "c054e171abc546abb200b00db79fd845",
            "bda8d74f6a854fab9ae42809334d211f",
            "50af832113cc43719f30b500fce60536",
            "0108651514ad4103a32cc6fe782c6dd7",
            "6cbf8c4d0dd445908feb5b8a03c03635",
            "4cd171b89751405abecc5d67be68abdf",
            "ca657d9e2ce54d6ba0bc16522aed6e6f",
            "b5fb880345c1422988b71704a24ac902",
            "9545701df8674c81b43901dedcaa599e",
            "fcd4c7cd5a0d419a8bccc360bd42aa7b",
            "04b0189fbd46426ab6d5eead2fde250c",
            "4ba8e3cbf4dd4225b9687e5620dcdaaf",
            "09832495bf6942ee9449510e6e767469",
            "e9238ae1484e4d40b9ec4657b89baee3"
          ]
        }
      },
      "source": [
        "\n",
        "nltk.download('stopwords')\n",
        "stop_words = stopwords.words('russian')\n",
        "def remove_stopwords(text):\n",
        "    \"\"\"\n",
        "    Removing stopwords belonging to russian language\n",
        "    \n",
        "    \"\"\"\n",
        "    words = [w for w in text if w not in stop_words]\n",
        "    return words\n",
        "\n",
        "\n",
        "text = tokens.progress_apply(lambda x : remove_stopwords(x))\n",
        "text_test = tokens_test.progress_apply(lambda x : remove_stopwords(x))\n",
        "text.head(3)"
      ],
      "execution_count": null,
      "outputs": [
        {
          "output_type": "stream",
          "text": [
            "[nltk_data] Downloading package stopwords to /root/nltk_data...\n",
            "[nltk_data]   Unzipping corpora/stopwords.zip.\n"
          ],
          "name": "stdout"
        },
        {
          "output_type": "display_data",
          "data": {
            "application/vnd.jupyter.widget-view+json": {
              "model_id": "ef04542149c04ee89f572bb78d6d4806",
              "version_minor": 0,
              "version_major": 2
            },
            "text/plain": [
              "HBox(children=(FloatProgress(value=0.0, max=23878.0), HTML(value='')))"
            ]
          },
          "metadata": {
            "tags": []
          }
        },
        {
          "output_type": "stream",
          "text": [
            "\n"
          ],
          "name": "stdout"
        },
        {
          "output_type": "display_data",
          "data": {
            "application/vnd.jupyter.widget-view+json": {
              "model_id": "ca657d9e2ce54d6ba0bc16522aed6e6f",
              "version_minor": 0,
              "version_major": 2
            },
            "text/plain": [
              "HBox(children=(FloatProgress(value=0.0, max=6024.0), HTML(value='')))"
            ]
          },
          "metadata": {
            "tags": []
          }
        },
        {
          "output_type": "stream",
          "text": [
            "\n"
          ],
          "name": "stdout"
        },
        {
          "output_type": "execute_result",
          "data": {
            "text/plain": [
              "0    [синьцзян-уйгурский, автономный, район, китай, суар, уйгур, давать, 10, тысяча, юань, 162, тысяча, доллар, брак, представитель, титульный, нация, , ханьцами, , местный, власть, сообщить, это, свой, официальный, сайт, передавать, south, china, morning, post, из-за, процветать, район, сепаратистский, настроение, синьцзян, давно, являться, головной, боль, пекин, , снять, напряжённость, укрепить, связь, местный, население, ханьцами, власть, китай, планировать, помощь, программа, поддержка, межэтнический, брак, отмечать, издание, суар, 10, тысяча, юань, , это, большой, деньга, учитывать, средний, годовой, доход, душа, население, составлять, 75, тысяча, юань, 12, тысяча, доллар, материал, теме1117, 13, июнь, 2014великий, антитеррористический, , стенана, борьба, внутренний, враг, кнр, тратить, большой, средство, оборона, страныпомить, это, ...]                                                                                                                                       \n",
              "1    [режиссёр, дэвид, линч, создатель, телесериал, твин, пикс, отказаться, участвовать, съёмка, продолжение, , это, сообщить, свой, twitter, год, четыре, месяц, переговоры, канал, showtime, , прим, , \"лента, ру\", решить, уйти, хватать, деньга, сделать, всё, наш, сценарий, , написать, линч, слово, сообщить, весь, актёр, пригласить, проект, дальнейший, работа, проходить, оно, , менее, режиссёр, выразить, надежда, новый, серия, твин, пикс, всё-таки, появиться, экран, середина, март, линч, заявлять, запуск, третий, сезон, твин, пикс, мочь, состояться, , проект, должный, вернуться, исполнитель, главный, роль, оригинальный, сериал, , кайло, маклахлить, дейл, купер, шерил, лор, палмера, третий, сезон, твин, пикс, должный, выйти, канал, showtime, 2016, год, состоять, девять, ...]                                                                                                                                                                                                              \n",
              "2    [министр, региональный, развитие, россия, виктор, басаргин, возглавить, наблюдательный, совет, госкорпорация, \"фонд, содействие, реформирование, жкх\", , это, сообщаться, сайт, правительство, страна, , это, пост, басаргин, сменить, вице-премьер, дмитрий, козак, ранее, басаргин, являться, заместитель, председатель, набсовет, госкорпорация, правительственный, сообщение, отмечаться, козак, исключаться, состав, наблюдательный, совет, госкорпорация, , время, состав, набсовет, включаться, замглавы, минэкономразвития, станислав, воскресенский, 5, март, стать, известно, басаргин, назначить, глава, наблюдательный, совет, госкорпорация, \"олимпстрой\", , ранее, пост, также, занимать, козак, , это, указывать, риа, новость, козак, соответствие, распределение, обязанность, вице-премьер, по-прежнему, курировать, правительство, подготовка, проведение, сочинский, олимпиада, 2014, год, политика, государство, область, жкх, строительство, архитектура, начало, март, 2012, год, президент, ...]\n",
              "Name: text, dtype: object"
            ]
          },
          "metadata": {
            "tags": []
          },
          "execution_count": 12
        }
      ]
    },
    {
      "cell_type": "code",
      "metadata": {
        "id": "alDLoMA1-bKD",
        "outputId": "f04649b5-4cf9-4de5-fcf5-0f75c9e97568",
        "colab": {
          "base_uri": "https://localhost:8080/",
          "height": 107
        }
      },
      "source": [
        "def combine_text(list_of_text):\n",
        "    combined_text = ' '.join(list_of_text)\n",
        "    return combined_text\n",
        "\n",
        "text = text.apply(lambda x : combine_text(x))\n",
        "text_test = text_test.apply(lambda x : combine_text(x))\n",
        "text.head(3)"
      ],
      "execution_count": null,
      "outputs": [
        {
          "output_type": "execute_result",
          "data": {
            "text/plain": [
              "0    синьцзян-уйгурский автономный район китай суар уйгур давать 10 тысяча юань 162 тысяча доллар брак представитель титульный нация  ханьцами  местный власть сообщить это свой официальный сайт передавать south china morning post из-за процветать район сепаратистский настроение синьцзян давно являться головной боль пекин  снять напряжённость укрепить связь местный население ханьцами власть китай планировать помощь программа поддержка межэтнический брак отмечать издание суар 10 тысяча юань  это большой деньга учитывать средний годовой доход душа население составлять 75 тысяча юань 12 тысяча доллар материал теме1117 13 июнь 2014великий антитеррористический  стенана борьба внутренний враг кнр тратить большой средство оборона страныпомить это смешанный пара каждый год прожить гармония друг друг получать 50 тысяча юань 8 тысяча доллар  ребёнок родить брак уйгур ханьцами смочь бесплатно посещать детский сад учиться средний школа  поступление ребёнок институт правительство выделить семья грант 5 тысяча юань 814 доллар  супруга также получить субсидия здравоохранение однако несмотря всевозможный льгота момент появление закон начало август это год брак пока зарегистрировать  информация газета текущий момент заключить 54 брак уйгур ханьцами  однако пара никакой льгота получать  брак уйгур ханьцами сообщать издание обычно заканчиваться развод уйгур составлять 72 процент население суар китаец-ханец  менее 26 процент                                                                                                                                                                                     \n",
              "1    режиссёр дэвид линч создатель телесериал твин пикс отказаться участвовать съёмка продолжение  это сообщить свой twitter год четыре месяц переговоры канал showtime  прим  \"лента ру\" решить уйти хватать деньга сделать всё наш сценарий  написать линч слово сообщить весь актёр пригласить проект дальнейший работа проходить оно  менее режиссёр выразить надежда новый серия твин пикс всё-таки появиться экран середина март линч заявлять запуск третий сезон твин пикс мочь состояться  проект должный вернуться исполнитель главный роль оригинальный сериал  кайло маклахлить дейл купер шерил лор палмера третий сезон твин пикс должный выйти канал showtime 2016 год состоять девять серия  сериал создать дэвид линч марк фрост  выходить 1990-1991-й канал abc продержаться сезон  проект снятой эфир из-за начать снижаться рейтинг получить полнометражный приквёлый твин пикс огонь идти премьера который состояться каннский фестиваль 1992 год                                                                                                                                                                                                                                                                                                                                                                                                                                                                                                                                                                                                                                                                                                  \n",
              "2    министр региональный развитие россия виктор басаргин возглавить наблюдательный совет госкорпорация \"фонд содействие реформирование жкх\"  это сообщаться сайт правительство страна  это пост басаргин сменить вице-премьер дмитрий козак ранее басаргин являться заместитель председатель набсовет госкорпорация правительственный сообщение отмечаться козак исключаться состав наблюдательный совет госкорпорация  время состав набсовет включаться замглавы минэкономразвития станислав воскресенский 5 март стать известно басаргин назначить глава наблюдательный совет госкорпорация \"олимпстрой\"  ранее пост также занимать козак  это указывать риа новость козак соответствие распределение обязанность вице-премьер по-прежнему курировать правительство подготовка проведение сочинский олимпиада 2014 год политика государство область жкх строительство архитектура начало март 2012 год президент россия дмитрий медведев заявить хищение злоупотребление сфера жкх \"выйти уровень эпидемии\" призвать мвд активный расследовать преступление область  сразу выступление медведев председатель счётный палата сергей степашин заверить ведомство течение текущий год проверить работа фонд реформирование жкх также жилищный политика местный власть тарифный политика  осень прошлое год сообщаться счётный палата обнаружить \"фонд содействие реформирование жкх\" нарушение общий сумма 333 миллиард рубль январь текущий год генпрокуратура создать специальный группа контроль расходование средство выделять жкх  это сделать ноябрь 2011 год прокуратура сообщить итог провести март ноябрь проверка сфера жкх выявить свыше 16 тысяча нарушение \n",
              "Name: text, dtype: object"
            ]
          },
          "metadata": {
            "tags": []
          },
          "execution_count": 14
        }
      ]
    },
    {
      "cell_type": "code",
      "metadata": {
        "id": "PbO7eEGhgSF2"
      },
      "source": [
        "text = pd.read_csv(PATH + 'clean_train.csv')\n",
        "text_test = pd.read_csv(PATH + 'clean_test.csv')\n",
        "#text.to_csv(PATH + 'clean_train.csv')\n",
        "#text_test.to_csv(PATH + 'clean_test.csv')"
      ],
      "execution_count": null,
      "outputs": []
    },
    {
      "cell_type": "code",
      "metadata": {
        "id": "vBtedes2LY3D",
        "outputId": "1e686cc5-5cb4-42a1-fe0b-21e008c087f6",
        "colab": {
          "base_uri": "https://localhost:8080/",
          "height": 52
        }
      },
      "source": [
        "all_words = [word for tokens in text for word in tokens]\n",
        "sentence_lengths = [len(tokens) for tokens in text]\n",
        "VOCAB = sorted(list(set(all_words)))\n",
        "print(\"%s words total, with a vocabulary size of %s\" % (len(all_words), len(VOCAB)))\n",
        "print(\"Max sentence length is %s\" % max(sentence_lengths))\n",
        "MAX_SEQUENCE_LENGTH = 1375 #!!!!!!!!!!!!!!!!!!!!!!!!!!!"
      ],
      "execution_count": null,
      "outputs": [
        {
          "output_type": "stream",
          "text": [
            "29915507 words total, with a vocabulary size of 302\n",
            "Max sentence length is 11683\n"
          ],
          "name": "stdout"
        }
      ]
    },
    {
      "cell_type": "code",
      "metadata": {
        "id": "XHRvNKBoYebg"
      },
      "source": [
        "labels = [1 if label=='true' else 0 for label in labels]"
      ],
      "execution_count": null,
      "outputs": []
    },
    {
      "cell_type": "code",
      "metadata": {
        "id": "9jmUaoPyXdCc"
      },
      "source": [
        "\n",
        "from sklearn.model_selection import train_test_split\n",
        "from sklearn.feature_extraction.text import CountVectorizer, TfidfVectorizer\n",
        "\n",
        "def cv(data):\n",
        "    count_vectorizer = CountVectorizer()\n",
        "\n",
        "    emb = count_vectorizer.fit_transform(data)\n",
        "\n",
        "    return emb, count_vectorizer\n",
        "\n",
        "list_corpus = text.tolist()\n",
        "list_labels = labels#.tolist()\n",
        "\n",
        "X_train, X_test, y_train, y_test = train_test_split(list_corpus, list_labels, test_size=0.2, \n",
        "                                                                                random_state=40)\n",
        "\n",
        "X_train_counts, count_vectorizer = cv(X_train)\n",
        "X_test_counts = count_vectorizer.transform(X_test)"
      ],
      "execution_count": null,
      "outputs": []
    },
    {
      "cell_type": "code",
      "metadata": {
        "id": "hiNqhxk1mlo-"
      },
      "source": [
        "from sklearn.linear_model import LogisticRegression\n",
        "\n",
        "clf = LogisticRegression(C=30.0, class_weight='balanced', solver='newton-cg', \n",
        "                         multi_class='multinomial', n_jobs=-1, random_state=40)"
      ],
      "execution_count": null,
      "outputs": []
    },
    {
      "cell_type": "code",
      "metadata": {
        "id": "1LV2VN4FYKn6",
        "outputId": "f3e9d2c6-4f84-4ec4-df54-58c2a3da2917",
        "colab": {
          "base_uri": "https://localhost:8080/",
          "height": 339
        }
      },
      "source": [
        "\n",
        "clf.fit(X_train_counts, y_train)\n",
        "\n",
        "y_predicted_counts = clf.predict(X_test_counts)"
      ],
      "execution_count": null,
      "outputs": [
        {
          "output_type": "error",
          "ename": "ValueError",
          "evalue": "ignored",
          "traceback": [
            "\u001b[0;31m---------------------------------------------------------------------------\u001b[0m",
            "\u001b[0;31mValueError\u001b[0m                                Traceback (most recent call last)",
            "\u001b[0;32m<ipython-input-20-c8371df4cb21>\u001b[0m in \u001b[0;36m<module>\u001b[0;34m()\u001b[0m\n\u001b[1;32m      1\u001b[0m \u001b[0;34m\u001b[0m\u001b[0m\n\u001b[0;32m----> 2\u001b[0;31m \u001b[0mclf\u001b[0m\u001b[0;34m.\u001b[0m\u001b[0mfit\u001b[0m\u001b[0;34m(\u001b[0m\u001b[0mX_train_counts\u001b[0m\u001b[0;34m,\u001b[0m \u001b[0my_train\u001b[0m\u001b[0;34m)\u001b[0m\u001b[0;34m\u001b[0m\u001b[0;34m\u001b[0m\u001b[0m\n\u001b[0m\u001b[1;32m      3\u001b[0m \u001b[0;34m\u001b[0m\u001b[0m\n\u001b[1;32m      4\u001b[0m \u001b[0my_predicted_counts\u001b[0m \u001b[0;34m=\u001b[0m \u001b[0mclf\u001b[0m\u001b[0;34m.\u001b[0m\u001b[0mpredict\u001b[0m\u001b[0;34m(\u001b[0m\u001b[0mX_test_counts\u001b[0m\u001b[0;34m)\u001b[0m\u001b[0;34m\u001b[0m\u001b[0;34m\u001b[0m\u001b[0m\n",
            "\u001b[0;32m/usr/local/lib/python3.6/dist-packages/sklearn/linear_model/_logistic.py\u001b[0m in \u001b[0;36mfit\u001b[0;34m(self, X, y, sample_weight)\u001b[0m\n\u001b[1;32m   1556\u001b[0m             raise ValueError(\"This solver needs samples of at least 2 classes\"\n\u001b[1;32m   1557\u001b[0m                              \u001b[0;34m\" in the data, but the data contains only one\"\u001b[0m\u001b[0;34m\u001b[0m\u001b[0;34m\u001b[0m\u001b[0m\n\u001b[0;32m-> 1558\u001b[0;31m                              \" class: %r\" % classes_[0])\n\u001b[0m\u001b[1;32m   1559\u001b[0m \u001b[0;34m\u001b[0m\u001b[0m\n\u001b[1;32m   1560\u001b[0m         \u001b[0;32mif\u001b[0m \u001b[0mlen\u001b[0m\u001b[0;34m(\u001b[0m\u001b[0mself\u001b[0m\u001b[0;34m.\u001b[0m\u001b[0mclasses_\u001b[0m\u001b[0;34m)\u001b[0m \u001b[0;34m==\u001b[0m \u001b[0;36m2\u001b[0m\u001b[0;34m:\u001b[0m\u001b[0;34m\u001b[0m\u001b[0;34m\u001b[0m\u001b[0m\n",
            "\u001b[0;31mValueError\u001b[0m: This solver needs samples of at least 2 classes in the data, but the data contains only one class: 0"
          ]
        }
      ]
    },
    {
      "cell_type": "code",
      "metadata": {
        "id": "gEIhOjV5ZVI9"
      },
      "source": [
        "from sklearn.metrics import accuracy_score, f1_score, precision_score, recall_score, classification_report\n",
        "\n",
        "def get_metrics(y_test, y_predicted):  \n",
        "    # true positives / (true positives+false positives)\n",
        "    precision = precision_score(y_test, y_predicted, pos_label=None,\n",
        "                                    average='weighted')             \n",
        "    # true positives / (true positives + false negatives)\n",
        "    recall = recall_score(y_test, y_predicted, pos_label=None,\n",
        "                              average='weighted')\n",
        "    \n",
        "    # harmonic mean of precision and recall\n",
        "    f1 = f1_score(y_test, y_predicted, pos_label=None, average='weighted')\n",
        "    \n",
        "    # true positives + true negatives/ total\n",
        "    accuracy = accuracy_score(y_test, y_predicted)\n",
        "    return accuracy, precision, recall, f1\n",
        "\n",
        "accuracy, precision, recall, f1 = get_metrics(y_test, y_predicted_counts)\n",
        "print(\"accuracy = %.3f, precision = %.3f, recall = %.3f, f1 = %.3f\" % (accuracy, precision, recall, f1))"
      ],
      "execution_count": null,
      "outputs": []
    },
    {
      "cell_type": "code",
      "metadata": {
        "id": "Ag7KMhXeZbju",
        "outputId": "288585f6-fbd9-4a61-d2ea-cb411b392a4e",
        "colab": {
          "base_uri": "https://localhost:8080/",
          "height": 35
        }
      },
      "source": [
        "X_train_counts, count_vectorizer = cv(text)\n",
        "X_test_counts = count_vectorizer.transform(text_test)\n",
        "X_train_counts.shape"
      ],
      "execution_count": null,
      "outputs": [
        {
          "output_type": "execute_result",
          "data": {
            "text/plain": [
              "(23878, 132651)"
            ]
          },
          "metadata": {
            "tags": []
          },
          "execution_count": 21
        }
      ]
    },
    {
      "cell_type": "code",
      "metadata": {
        "id": "_JVEncfwaikj",
        "outputId": "cbf45c89-8af3-43ac-8759-adf266346149",
        "colab": {
          "base_uri": "https://localhost:8080/",
          "height": 69
        }
      },
      "source": [
        "pd.Series(labels).value_counts()"
      ],
      "execution_count": null,
      "outputs": [
        {
          "output_type": "execute_result",
          "data": {
            "text/plain": [
              "true    19914\n",
              "fake    3964 \n",
              "Name: class, dtype: int64"
            ]
          },
          "metadata": {
            "tags": []
          },
          "execution_count": 31
        }
      ]
    },
    {
      "cell_type": "code",
      "metadata": {
        "id": "PlCvGkxeZ_8d"
      },
      "source": [
        "clf.fit(X_train_counts, labels)\n",
        "\n",
        "y_predicted_counts = clf.predict(X_test_counts)"
      ],
      "execution_count": null,
      "outputs": []
    },
    {
      "cell_type": "code",
      "metadata": {
        "id": "jyOABP49aHlt",
        "outputId": "ba23e716-3a69-4a06-bd4e-b649545f3943",
        "colab": {
          "base_uri": "https://localhost:8080/",
          "height": 69
        }
      },
      "source": [
        "#pred = ['true' if prediction else 'fake' for prediction in y_predicted_counts]\n",
        "result = pd.DataFrame()\n",
        "result['text'] = df_test['text']\n",
        "result['class'] = y_predicted_counts\n",
        "#result.to_csv(PATH + 'sub.txt',sep='\\t',index = False)\n",
        "result.to_csv(PATH + 'sub.csv',sep='\\t',index = True)\n",
        "result['class'].value_counts()"
      ],
      "execution_count": null,
      "outputs": [
        {
          "output_type": "execute_result",
          "data": {
            "text/plain": [
              "true    4975\n",
              "fake    1049\n",
              "Name: class, dtype: int64"
            ]
          },
          "metadata": {
            "tags": []
          },
          "execution_count": 33
        }
      ]
    },
    {
      "cell_type": "code",
      "metadata": {
        "id": "_BKGTYjUnMYF"
      },
      "source": [
        ""
      ],
      "execution_count": null,
      "outputs": []
    }
  ]
}
